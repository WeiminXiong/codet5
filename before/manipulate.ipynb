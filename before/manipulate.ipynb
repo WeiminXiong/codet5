{
 "cells": [
  {
   "cell_type": "code",
   "execution_count": 5,
   "metadata": {},
   "outputs": [],
   "source": [
    "import matplotlib.pyplot as plt\n",
    "import numpy as np\n",
    "import json"
   ]
  },
  {
   "cell_type": "code",
   "execution_count": 6,
   "metadata": {},
   "outputs": [],
   "source": [
    "path = \"/home/weimin/CodeT5/CodeT5+/gpt_thought_final_result.json\"\n",
    "data = json.load(open(path, 'r'))"
   ]
  },
  {
   "cell_type": "code",
   "execution_count": 8,
   "metadata": {},
   "outputs": [],
   "source": [
    "pass1_dict = {}\n",
    "for key, value in data.items():\n",
    "    pass1_dict[key]=[]\n",
    "    for item in value.values():\n",
    "        pass1_dict[key].append(item['pass@1'])"
   ]
  },
  {
   "cell_type": "code",
   "execution_count": 10,
   "metadata": {},
   "outputs": [],
   "source": [
    "result_dict = {}\n",
    "for key, value in pass1_dict.items():\n",
    "    result_dict[key] = {}\n",
    "    result_dict[key]['mean'] = np.mean(pass1_dict[key])\n",
    "    result_dict[key]['var'] = np.var(pass1_dict[key])"
   ]
  },
  {
   "cell_type": "code",
   "execution_count": 11,
   "metadata": {},
   "outputs": [
    {
     "name": "stdout",
     "output_type": "stream",
     "text": [
      "{'HumanEval/2': {'mean': 1.0, 'var': 0.0}, 'HumanEval/106': {'mean': 0.8, 'var': 0.16000000000000003}, 'HumanEval/24': {'mean': 1.0, 'var': 0.0}, 'HumanEval/133': {'mean': 1.0, 'var': 0.0}, 'HumanEval/136': {'mean': 0.62, 'var': 0.1336}, 'HumanEval/161': {'mean': 0.89, 'var': 0.0889}, 'HumanEval/65': {'mean': 0.9, 'var': 0.09000000000000001}, 'HumanEval/68': {'mean': 0.9399999999999998, 'var': 0.010400000000000003}, 'HumanEval/31': {'mean': 1.0, 'var': 0.0}, 'HumanEval/77': {'mean': 0.16, 'var': 0.08239999999999999}, 'HumanEval/28': {'mean': 1.0, 'var': 0.0}, 'HumanEval/99': {'mean': 0.15, 'var': 0.04849999999999999}, 'HumanEval/13': {'mean': 1.0, 'var': 0.0}, 'HumanEval/86': {'mean': 1.0, 'var': 0.0}, 'HumanEval/67': {'mean': 0.73, 'var': 0.08610000000000001}, 'HumanEval/111': {'mean': 0.0, 'var': 0.0}, 'HumanEval/118': {'mean': 0.05, 'var': 0.022500000000000003}, 'HumanEval/132': {'mean': 0.009999999999999998, 'var': 0.0008999999999999994}, 'HumanEval/76': {'mean': 0.29, 'var': 0.1669}, 'HumanEval/147': {'mean': 0.9099999999999999, 'var': 0.07289999999999999}, 'HumanEval/55': {'mean': 0.99, 'var': 0.0008999999999999995}, 'HumanEval/96': {'mean': 1.0, 'var': 0.0}, 'HumanEval/46': {'mean': 0.76, 'var': 0.1524}, 'HumanEval/19': {'mean': 0.9800000000000001, 'var': 0.0015999999999999994}, 'HumanEval/112': {'mean': 0.99, 'var': 0.0008999999999999994}, 'HumanEval/49': {'mean': 0.89, 'var': 0.0889}, 'HumanEval/80': {'mean': 0.8, 'var': 0.16000000000000003}, 'HumanEval/72': {'mean': 1.0, 'var': 0.0}, 'HumanEval/148': {'mean': 0.79, 'var': 0.0809}, 'HumanEval/97': {'mean': 0.7, 'var': 0.136}, 'HumanEval/25': {'mean': 1.0, 'var': 0.0}, 'HumanEval/138': {'mean': 0.5700000000000001, 'var': 0.1881}, 'HumanEval/115': {'mean': 0.16, 'var': 0.1004}, 'HumanEval/152': {'mean': 0.9800000000000001, 'var': 0.0036000000000000034}, 'HumanEval/89': {'mean': 0.8, 'var': 0.16000000000000003}, 'HumanEval/92': {'mean': 1.0, 'var': 0.0}, 'HumanEval/21': {'mean': 1.0, 'var': 0.0}, 'HumanEval/17': {'mean': 0.75, 'var': 0.1505}, 'HumanEval/137': {'mean': 0.0, 'var': 0.0}, 'HumanEval/38': {'mean': 1.0, 'var': 0.0}, 'HumanEval/149': {'mean': 1.0, 'var': 0.0}, 'HumanEval/43': {'mean': 0.93, 'var': 0.0441}, 'HumanEval/70': {'mean': 1.0, 'var': 0.0}, 'HumanEval/123': {'mean': 0.93, 'var': 0.032100000000000004}, 'HumanEval/113': {'mean': 0.0, 'var': 0.0}, 'HumanEval/63': {'mean': 0.8699999999999999, 'var': 0.07010000000000001}, 'HumanEval/73': {'mean': 0.8399999999999999, 'var': 0.05840000000000001}, 'HumanEval/134': {'mean': 0.34, 'var': 0.19239999999999996}, 'HumanEval/50': {'mean': 1.0, 'var': 0.0}, 'HumanEval/109': {'mean': 0.5700000000000001, 'var': 0.1621}, 'HumanEval/94': {'mean': 1.0, 'var': 0.0}, 'HumanEval/7': {'mean': 0.99, 'var': 0.0008999999999999994}, 'HumanEval/108': {'mean': 0.17, 'var': 0.0261}, 'HumanEval/51': {'mean': 1.0, 'var': 0.0}, 'HumanEval/158': {'mean': 0.8099999999999999, 'var': 0.1289}, 'HumanEval/107': {'mean': 1.0, 'var': 0.0}, 'HumanEval/125': {'mean': 0.06999999999999998, 'var': 0.0321}, 'HumanEval/129': {'mean': 0.0, 'var': 0.0}, 'HumanEval/144': {'mean': 0.6100000000000001, 'var': 0.1409}, 'HumanEval/145': {'mean': 0.0, 'var': 0.0}, 'HumanEval/98': {'mean': 0.9, 'var': 0.09}, 'HumanEval/40': {'mean': 0.9199999999999999, 'var': 0.05759999999999997}, 'HumanEval/45': {'mean': 1.0, 'var': 0.0}, 'HumanEval/88': {'mean': 1.0, 'var': 0.0}, 'HumanEval/32': {'mean': 0.07000000000000002, 'var': 0.012100000000000005}, 'HumanEval/74': {'mean': 0.9800000000000001, 'var': 0.0036000000000000034}, 'HumanEval/33': {'mean': 0.33999999999999997, 'var': 0.17439999999999997}, 'HumanEval/121': {'mean': 0.9, 'var': 0.09000000000000001}, 'HumanEval/71': {'mean': 1.0, 'var': 0.0}, 'HumanEval/128': {'mean': 0.5800000000000001, 'var': 0.2136}, 'HumanEval/56': {'mean': 1.0, 'var': 0.0}, 'HumanEval/130': {'mean': 0.0, 'var': 0.0}, 'HumanEval/84': {'mean': 0.0, 'var': 0.0}, 'HumanEval/82': {'mean': 0.9400000000000001, 'var': 0.010400000000000003}, 'HumanEval/39': {'mean': 0.45, 'var': 0.1085}, 'HumanEval/22': {'mean': 1.0, 'var': 0.0}, 'HumanEval/69': {'mean': 0.8800000000000001, 'var': 0.0896}, 'HumanEval/100': {'mean': 0.0, 'var': 0.0}, 'HumanEval/122': {'mean': 0.9400000000000001, 'var': 0.006400000000000003}, 'HumanEval/18': {'mean': 1.0, 'var': 0.0}, 'HumanEval/61': {'mean': 1.0, 'var': 0.0}, 'HumanEval/11': {'mean': 0.82, 'var': 0.04960000000000002}, 'HumanEval/90': {'mean': 0.64, 'var': 0.1724}, 'HumanEval/20': {'mean': 0.5399999999999999, 'var': 0.17039999999999997}, 'HumanEval/23': {'mean': 1.0, 'var': 0.0}, 'HumanEval/146': {'mean': 1.0, 'var': 0.0}, 'HumanEval/141': {'mean': 0.7300000000000001, 'var': 0.042100000000000005}, 'HumanEval/105': {'mean': 0.99, 'var': 0.0008999999999999994}, 'HumanEval/26': {'mean': 0.0, 'var': 0.0}, 'HumanEval/29': {'mean': 1.0, 'var': 0.0}, 'HumanEval/156': {'mean': 0.75, 'var': 0.0505}, 'HumanEval/36': {'mean': 0.3, 'var': 0.20999999999999996}, 'HumanEval/104': {'mean': 1.0, 'var': 0.0}, 'HumanEval/81': {'mean': 0.6900000000000001, 'var': 0.0869}, 'HumanEval/62': {'mean': 0.72, 'var': 0.08360000000000001}, 'HumanEval/87': {'mean': 0.25, 'var': 0.0965}, 'HumanEval/15': {'mean': 1.0, 'var': 0.0}, 'HumanEval/52': {'mean': 0.99, 'var': 0.0008999999999999994}, 'HumanEval/8': {'mean': 0.97, 'var': 0.002099999999999999}, 'HumanEval/150': {'mean': 0.37, 'var': 0.1041}, 'HumanEval/53': {'mean': 0.99, 'var': 0.0008999999999999994}, 'HumanEval/37': {'mean': 0.52, 'var': 0.15760000000000002}, 'HumanEval/131': {'mean': 0.05, 'var': 0.014500000000000002}, 'HumanEval/93': {'mean': 0.04, 'var': 0.008400000000000005}, 'HumanEval/143': {'mean': 0.95, 'var': 0.008500000000000002}, 'HumanEval/159': {'mean': 0.07, 'var': 0.0161}, 'HumanEval/124': {'mean': 0.3500000000000001, 'var': 0.0485}, 'HumanEval/57': {'mean': 0.86, 'var': 0.09039999999999998}, 'HumanEval/47': {'mean': 1.0, 'var': 0.0}, 'HumanEval/116': {'mean': 0.99, 'var': 0.0008999999999999994}, 'HumanEval/102': {'mean': 0.99, 'var': 0.0008999999999999994}, 'HumanEval/157': {'mean': 0.8700000000000001, 'var': 0.0741}, 'HumanEval/66': {'mean': 0.37, 'var': 0.15009999999999998}, 'HumanEval/139': {'mean': 0.99, 'var': 0.0008999999999999994}, 'HumanEval/151': {'mean': 0.41, 'var': 0.14689999999999998}, 'HumanEval/79': {'mean': 0.71, 'var': 0.19690000000000002}, 'HumanEval/142': {'mean': 0.28, 'var': 0.15560000000000002}, 'HumanEval/59': {'mean': 0.85, 'var': 0.060499999999999984}, 'HumanEval/54': {'mean': 0.37, 'var': 0.2081}, 'HumanEval/95': {'mean': 0.72, 'var': 0.18560000000000001}, 'HumanEval/135': {'mean': 0.009999999999999998, 'var': 0.0008999999999999994}, 'HumanEval/110': {'mean': 0.75, 'var': 0.14850000000000002}, 'HumanEval/14': {'mean': 1.0, 'var': 0.0}, 'HumanEval/44': {'mean': 0.9800000000000001, 'var': 0.0015999999999999994}, 'HumanEval/75': {'mean': 0.25, 'var': 0.1085}, 'HumanEval/58': {'mean': 1.0, 'var': 0.0}, 'HumanEval/160': {'mean': 0.1, 'var': 0.07200000000000002}, 'HumanEval/42': {'mean': 0.99, 'var': 0.0008999999999999994}, 'HumanEval/78': {'mean': 0.89, 'var': 0.0889}, 'HumanEval/120': {'mean': 0.12000000000000002, 'var': 0.08959999999999999}, 'HumanEval/60': {'mean': 0.99, 'var': 0.0008999999999999994}, 'HumanEval/35': {'mean': 1.0, 'var': 0.0}, 'HumanEval/91': {'mean': 0.009999999999999998, 'var': 0.0008999999999999994}, 'HumanEval/12': {'mean': 1.0, 'var': 0.0}, 'HumanEval/163': {'mean': 0.0, 'var': 0.0}, 'HumanEval/3': {'mean': 0.99, 'var': 0.0008999999999999994}, 'HumanEval/34': {'mean': 1.0, 'var': 0.0}, 'HumanEval/85': {'mean': 1.0, 'var': 0.0}, 'HumanEval/10': {'mean': 0.58, 'var': 0.1236}, 'HumanEval/0': {'mean': 1.0, 'var': 0.0}, 'HumanEval/119': {'mean': 0.22000000000000003, 'var': 0.1296}, 'HumanEval/83': {'mean': 0.7, 'var': 0.20999999999999996}, 'HumanEval/1': {'mean': 0.8699999999999999, 'var': 0.03010000000000001}, 'HumanEval/101': {'mean': 0.6900000000000001, 'var': 0.09090000000000001}, 'HumanEval/16': {'mean': 1.0, 'var': 0.0}, 'HumanEval/162': {'mean': 1.0, 'var': 0.0}, 'HumanEval/9': {'mean': 0.85, 'var': 0.08449999999999999}, 'HumanEval/64': {'mean': 0.11000000000000001, 'var': 0.024900000000000005}, 'HumanEval/117': {'mean': 1.0, 'var': 0.0}, 'HumanEval/140': {'mean': 0.019999999999999997, 'var': 0.0015999999999999994}, 'HumanEval/48': {'mean': 1.0, 'var': 0.0}, 'HumanEval/153': {'mean': 0.7499999999999999, 'var': 0.07850000000000001}, 'HumanEval/154': {'mean': 1.0, 'var': 0.0}, 'HumanEval/5': {'mean': 0.8800000000000001, 'var': 0.0376}, 'HumanEval/103': {'mean': 0.76, 'var': 0.06639999999999999}, 'HumanEval/30': {'mean': 0.9800000000000001, 'var': 0.0015999999999999994}, 'HumanEval/41': {'mean': 0.08, 'var': 0.013600000000000004}, 'HumanEval/126': {'mean': 0.020000000000000007, 'var': 0.0036000000000000016}, 'HumanEval/6': {'mean': 0.82, 'var': 0.1316}, 'HumanEval/127': {'mean': 0.49000000000000005, 'var': 0.1649}, 'HumanEval/4': {'mean': 0.99, 'var': 0.0008999999999999994}, 'HumanEval/114': {'mean': 0.25, 'var': 0.12250000000000001}, 'HumanEval/27': {'mean': 1.0, 'var': 0.0}, 'HumanEval/155': {'mean': 0.18000000000000002, 'var': 0.023600000000000006}}\n"
     ]
    }
   ],
   "source": [
    "print(result_dict)"
   ]
  },
  {
   "cell_type": "code",
   "execution_count": 13,
   "metadata": {},
   "outputs": [
    {
     "data": {
      "image/png": "[encoded data removed]",
      "text/plain": [
       "<Figure size 640x480 with 1 Axes>"
      ]
     },
     "metadata": {},
     "output_type": "display_data"
    }
   ],
   "source": [
    "x = [item['mean'] for item in result_dict.values()]\n",
    "y = [item['var'] for item in result_dict.values()]\n",
    "plt.xlabel(\"mean\")\n",
    "plt.ylabel(\"var\")\n",
    "plt.scatter(x,y)\n",
    "plt.show()"
   ]
  },
  {
   "cell_type": "code",
   "execution_count": 23,
   "metadata": {},
   "outputs": [],
   "source": [
    "problem_names = sorted([(value['var'], key) for key, value in result_dict.items()])"
   ]
  },
  {
   "cell_type": "code",
   "execution_count": 24,
   "metadata": {},
   "outputs": [
    {
     "data": {
      "text/plain": [
       "[(0.0, 'HumanEval/0'),\n",
       " (0.0, 'HumanEval/100'),\n",
       " (0.0, 'HumanEval/104'),\n",
       " (0.0, 'HumanEval/107'),\n",
       " (0.0, 'HumanEval/111'),\n",
       " (0.0, 'HumanEval/113'),\n",
       " (0.0, 'HumanEval/117'),\n",
       " (0.0, 'HumanEval/12'),\n",
       " (0.0, 'HumanEval/129'),\n",
       " (0.0, 'HumanEval/13'),\n",
       " (0.0, 'HumanEval/130'),\n",
       " (0.0, 'HumanEval/133'),\n",
       " (0.0, 'HumanEval/137'),\n",
       " (0.0, 'HumanEval/14'),\n",
       " (0.0, 'HumanEval/145'),\n",
       " (0.0, 'HumanEval/146'),\n",
       " (0.0, 'HumanEval/149'),\n",
       " (0.0, 'HumanEval/15'),\n",
       " (0.0, 'HumanEval/154'),\n",
       " (0.0, 'HumanEval/16'),\n",
       " (0.0, 'HumanEval/162'),\n",
       " (0.0, 'HumanEval/163'),\n",
       " (0.0, 'HumanEval/18'),\n",
       " (0.0, 'HumanEval/2'),\n",
       " (0.0, 'HumanEval/21'),\n",
       " (0.0, 'HumanEval/22'),\n",
       " (0.0, 'HumanEval/23'),\n",
       " (0.0, 'HumanEval/24'),\n",
       " (0.0, 'HumanEval/25'),\n",
       " (0.0, 'HumanEval/26'),\n",
       " (0.0, 'HumanEval/27'),\n",
       " (0.0, 'HumanEval/28'),\n",
       " (0.0, 'HumanEval/29'),\n",
       " (0.0, 'HumanEval/31'),\n",
       " (0.0, 'HumanEval/34'),\n",
       " (0.0, 'HumanEval/35'),\n",
       " (0.0, 'HumanEval/38'),\n",
       " (0.0, 'HumanEval/45'),\n",
       " (0.0, 'HumanEval/47'),\n",
       " (0.0, 'HumanEval/48'),\n",
       " (0.0, 'HumanEval/50'),\n",
       " (0.0, 'HumanEval/51'),\n",
       " (0.0, 'HumanEval/56'),\n",
       " (0.0, 'HumanEval/58'),\n",
       " (0.0, 'HumanEval/61'),\n",
       " (0.0, 'HumanEval/70'),\n",
       " (0.0, 'HumanEval/71'),\n",
       " (0.0, 'HumanEval/72'),\n",
       " (0.0, 'HumanEval/84'),\n",
       " (0.0, 'HumanEval/85'),\n",
       " (0.0, 'HumanEval/86'),\n",
       " (0.0, 'HumanEval/88'),\n",
       " (0.0, 'HumanEval/92'),\n",
       " (0.0, 'HumanEval/94'),\n",
       " (0.0, 'HumanEval/96'),\n",
       " (0.0008999999999999994, 'HumanEval/102'),\n",
       " (0.0008999999999999994, 'HumanEval/105'),\n",
       " (0.0008999999999999994, 'HumanEval/112'),\n",
       " (0.0008999999999999994, 'HumanEval/116'),\n",
       " (0.0008999999999999994, 'HumanEval/132'),\n",
       " (0.0008999999999999994, 'HumanEval/135'),\n",
       " (0.0008999999999999994, 'HumanEval/139'),\n",
       " (0.0008999999999999994, 'HumanEval/3'),\n",
       " (0.0008999999999999994, 'HumanEval/4'),\n",
       " (0.0008999999999999994, 'HumanEval/42'),\n",
       " (0.0008999999999999994, 'HumanEval/52'),\n",
       " (0.0008999999999999994, 'HumanEval/53'),\n",
       " (0.0008999999999999994, 'HumanEval/60'),\n",
       " (0.0008999999999999994, 'HumanEval/7'),\n",
       " (0.0008999999999999994, 'HumanEval/91'),\n",
       " (0.0008999999999999995, 'HumanEval/55'),\n",
       " (0.0015999999999999994, 'HumanEval/140'),\n",
       " (0.0015999999999999994, 'HumanEval/19'),\n",
       " (0.0015999999999999994, 'HumanEval/30'),\n",
       " (0.0015999999999999994, 'HumanEval/44'),\n",
       " (0.002099999999999999, 'HumanEval/8'),\n",
       " (0.0036000000000000016, 'HumanEval/126'),\n",
       " (0.0036000000000000034, 'HumanEval/152'),\n",
       " (0.0036000000000000034, 'HumanEval/74'),\n",
       " (0.006400000000000003, 'HumanEval/122'),\n",
       " (0.008400000000000005, 'HumanEval/93'),\n",
       " (0.008500000000000002, 'HumanEval/143'),\n",
       " (0.010400000000000003, 'HumanEval/68'),\n",
       " (0.010400000000000003, 'HumanEval/82'),\n",
       " (0.012100000000000005, 'HumanEval/32'),\n",
       " (0.013600000000000004, 'HumanEval/41'),\n",
       " (0.014500000000000002, 'HumanEval/131'),\n",
       " (0.0161, 'HumanEval/159'),\n",
       " (0.022500000000000003, 'HumanEval/118'),\n",
       " (0.023600000000000006, 'HumanEval/155'),\n",
       " (0.024900000000000005, 'HumanEval/64'),\n",
       " (0.0261, 'HumanEval/108'),\n",
       " (0.03010000000000001, 'HumanEval/1'),\n",
       " (0.0321, 'HumanEval/125'),\n",
       " (0.032100000000000004, 'HumanEval/123'),\n",
       " (0.0376, 'HumanEval/5'),\n",
       " (0.042100000000000005, 'HumanEval/141'),\n",
       " (0.0441, 'HumanEval/43'),\n",
       " (0.04849999999999999, 'HumanEval/99'),\n",
       " (0.0485, 'HumanEval/124'),\n",
       " (0.04960000000000002, 'HumanEval/11'),\n",
       " (0.0505, 'HumanEval/156'),\n",
       " (0.05759999999999997, 'HumanEval/40'),\n",
       " (0.05840000000000001, 'HumanEval/73'),\n",
       " (0.060499999999999984, 'HumanEval/59'),\n",
       " (0.06639999999999999, 'HumanEval/103'),\n",
       " (0.07010000000000001, 'HumanEval/63'),\n",
       " (0.07200000000000002, 'HumanEval/160'),\n",
       " (0.07289999999999999, 'HumanEval/147'),\n",
       " (0.0741, 'HumanEval/157'),\n",
       " (0.07850000000000001, 'HumanEval/153'),\n",
       " (0.0809, 'HumanEval/148'),\n",
       " (0.08239999999999999, 'HumanEval/77'),\n",
       " (0.08360000000000001, 'HumanEval/62'),\n",
       " (0.08449999999999999, 'HumanEval/9'),\n",
       " (0.08610000000000001, 'HumanEval/67'),\n",
       " (0.0869, 'HumanEval/81'),\n",
       " (0.0889, 'HumanEval/161'),\n",
       " (0.0889, 'HumanEval/49'),\n",
       " (0.0889, 'HumanEval/78'),\n",
       " (0.08959999999999999, 'HumanEval/120'),\n",
       " (0.0896, 'HumanEval/69'),\n",
       " (0.09, 'HumanEval/98'),\n",
       " (0.09000000000000001, 'HumanEval/121'),\n",
       " (0.09000000000000001, 'HumanEval/65'),\n",
       " (0.09039999999999998, 'HumanEval/57'),\n",
       " (0.09090000000000001, 'HumanEval/101'),\n",
       " (0.0965, 'HumanEval/87'),\n",
       " (0.1004, 'HumanEval/115'),\n",
       " (0.1041, 'HumanEval/150'),\n",
       " (0.1085, 'HumanEval/39'),\n",
       " (0.1085, 'HumanEval/75'),\n",
       " (0.12250000000000001, 'HumanEval/114'),\n",
       " (0.1236, 'HumanEval/10'),\n",
       " (0.1289, 'HumanEval/158'),\n",
       " (0.1296, 'HumanEval/119'),\n",
       " (0.1316, 'HumanEval/6'),\n",
       " (0.1336, 'HumanEval/136'),\n",
       " (0.136, 'HumanEval/97'),\n",
       " (0.1409, 'HumanEval/144'),\n",
       " (0.14689999999999998, 'HumanEval/151'),\n",
       " (0.14850000000000002, 'HumanEval/110'),\n",
       " (0.15009999999999998, 'HumanEval/66'),\n",
       " (0.1505, 'HumanEval/17'),\n",
       " (0.1524, 'HumanEval/46'),\n",
       " (0.15560000000000002, 'HumanEval/142'),\n",
       " (0.15760000000000002, 'HumanEval/37'),\n",
       " (0.16000000000000003, 'HumanEval/106'),\n",
       " (0.16000000000000003, 'HumanEval/80'),\n",
       " (0.16000000000000003, 'HumanEval/89'),\n",
       " (0.1621, 'HumanEval/109'),\n",
       " (0.1649, 'HumanEval/127'),\n",
       " (0.1669, 'HumanEval/76'),\n",
       " (0.17039999999999997, 'HumanEval/20'),\n",
       " (0.1724, 'HumanEval/90'),\n",
       " (0.17439999999999997, 'HumanEval/33'),\n",
       " (0.18560000000000001, 'HumanEval/95'),\n",
       " (0.1881, 'HumanEval/138'),\n",
       " (0.19239999999999996, 'HumanEval/134'),\n",
       " (0.19690000000000002, 'HumanEval/79'),\n",
       " (0.2081, 'HumanEval/54'),\n",
       " (0.20999999999999996, 'HumanEval/36'),\n",
       " (0.20999999999999996, 'HumanEval/83'),\n",
       " (0.2136, 'HumanEval/128')]"
      ]
     },
     "execution_count": 24,
     "metadata": {},
     "output_type": "execute_result"
    }
   ],
   "source": [
    "problem_names"
   ]
  },
  {
   "cell_type": "code",
   "execution_count": 20,
   "metadata": {},
   "outputs": [
    {
     "name": "stdout",
     "output_type": "stream",
     "text": [
      "def prod_signs(arr):\n",
      "    \"\"\"\n",
      "    You are given an array arr of integers and you need to return\n",
      "    sum of magnitudes of integers multiplied by product of all signs\n",
      "    of each number in the array, represented by 1, -1 or 0.\n",
      "    Note: return None for empty arr.\n",
      "\n",
      "    Example:\n",
      "    >>> prod_signs([1, 2, 2, -4]) == -9\n",
      "    >>> prod_signs([0, 1]) == 0\n",
      "    >>> prod_signs([]) == None\n",
      "    \"\"\"\n"
     ]
    }
   ],
   "source": [
    "print(\"def prod_signs(arr):\\n    \\\"\\\"\\\"\\n    You are given an array arr of integers and you need to return\\n    sum of magnitudes of integers multiplied by product of all signs\\n    of each number in the array, represented by 1, -1 or 0.\\n    Note: return None for empty arr.\\n\\n    Example:\\n    >>> prod_signs([1, 2, 2, -4]) == -9\\n    >>> prod_signs([0, 1]) == 0\\n    >>> prod_signs([]) == None\\n    \\\"\\\"\\\"\")"
   ]
  },
  {
   "cell_type": "code",
   "execution_count": 31,
   "metadata": {},
   "outputs": [
    {
     "name": "stdout",
     "output_type": "stream",
     "text": [
      "You volition beryllium given angstrom number inch decimal_fraction form and your undertaking be to convert information_technology to binary_star format. The function should tax_return angstrom string, with each fictional_character represent angstrom binary_star number. each fictional_character inch the string volition beryllium '0' Oregon '1'. there volition beryllium Associate_in_Nursing supernumerary couple of fictional_character 'db' astatine the beginning and astatine the end of the string. The supernumerary fictional_character are there to aid with the format.\n"
     ]
    }
   ],
   "source": [
    "import nltk\n",
    "# nltk.download('wordnet')\n",
    "\n",
    "from nltk.corpus import wordnet\n",
    "\n",
    "def get_synonyms(word):\n",
    "    synonyms = []\n",
    "    for synset in wordnet.synsets(word):\n",
    "        for lemma in synset.lemmas():\n",
    "            synonyms.append(lemma.name())\n",
    "    return synonyms\n",
    "\n",
    "def replace_synonyms(text):\n",
    "    words = text.split()\n",
    "    replaced_words = []\n",
    "    for word in words:\n",
    "        synonyms = get_synonyms(word)\n",
    "        if synonyms:\n",
    "            replaced_words.append(synonyms[0])  # 选择第一个同义词\n",
    "        else:\n",
    "            replaced_words.append(word)\n",
    "    replaced_text = ' '.join(replaced_words)\n",
    "    return replaced_text\n",
    "\n",
    "# 使用示例\n",
    "text = \"You will be given a number in decimal form and your task is to convert it to\\n    binary format. The function should return a string, with each character representing a binary\\n    number. Each character in the string will be '0' or '1'.\\n\\n    There will be an extra couple of characters 'db' at the beginning and at the end of the string.\\n    The extra characters are there to help with the format.\"\n",
    "replaced_text = replace_synonyms(text)\n",
    "print(replaced_text)\n"
   ]
  },
  {
   "cell_type": "code",
   "execution_count": 2,
   "metadata": {},
   "outputs": [],
   "source": [
    "original_path = \"/home/weimin/CodeT5/CodeT5+/result_tokens.json\"\n",
    "import json\n",
    "new_list = []\n",
    "data = json.load(open(original_path, 'r'))"
   ]
  },
  {
   "cell_type": "code",
   "execution_count": 3,
   "metadata": {},
   "outputs": [],
   "source": [
    "pos = \"0123456789\"\n",
    "specilal_tags = \"-\"\n",
    "\n",
    "for item in data:\n",
    "    flag = True\n",
    "    for i in pos:\n",
    "        if i in item:\n",
    "            flag=False\n",
    "            break\n",
    "    if specilal_tags in item:\n",
    "        flag=False\n",
    "    if flag:\n",
    "        new_list.append(item)\n",
    "\n",
    "json.dump(new_list, open(\"final_tokens.json\", 'w'))"
   ]
  },
  {
   "cell_type": "code",
   "execution_count": 3,
   "metadata": {},
   "outputs": [],
   "source": [
    "import json\n",
    "cur_list = json.load(open(\"final_tokens.json\", 'r'))\n",
    "map_path = \"map.json\"\n",
    "map_list = {}\n",
    "from textattack.transformations import WordSwapEmbedding\n",
    "\n",
    "embedding = WordSwapEmbedding()\n",
    "\n",
    "\n",
    "for item in cur_list:\n",
    "    replace_lists = embedding._get_replacement_words(item)\n",
    "    if len(replace_lists)>0 and len(item)!=1:\n",
    "        new_replace_list = []\n",
    "        for t in replace_lists:\n",
    "            if len(t)>1:\n",
    "                new_replace_list.append(t)\n",
    "        map_list[item] = new_replace_list[:5]\n",
    "        \n",
    "json.dump(map_list, open(map_path, 'w'))"
   ]
  },
  {
   "cell_type": "code",
   "execution_count": 4,
   "metadata": {},
   "outputs": [],
   "source": [
    "from nltk.corpus import stopwords\n",
    "import json\n",
    "\n",
    "words = stopwords.words('english')\n",
    "\n",
    "map_ = json.load(open(\"map.json\", 'r'))\n",
    "new_map_ = {}\n",
    "for key, value in map_.items():\n",
    "    if key.lower() not in words:\n",
    "        new_map_[key] = value\n",
    "\n",
    "json.dump(new_map_, open(\"new_map.json\",'w'))"
   ]
  },
  {
   "cell_type": "code",
   "execution_count": 7,
   "metadata": {},
   "outputs": [],
   "source": [
    "import json\n",
    "best_tokens = json.load(open(\"best_tokens.json\", 'r'))\n",
    "map_ = json.load(open(\"map.json\", 'r'))\n",
    "\n",
    "best_tokens = set(best_tokens)\n",
    "new_map = {}\n",
    "for item in best_tokens:\n",
    "    new_map[item] = map_[item][0]\n",
    "    \n",
    "json.dump(new_map, open(\"new_map.json\", 'w'))"
   ]
  },
  {
   "cell_type": "code",
   "execution_count": 17,
   "metadata": {},
   "outputs": [],
   "source": [
    "import json\n",
    "\n",
    "data = json.load(open(\"/home/weimin/CodeT5/CodeT5+/codet5p-770m-py_T0.2_N20_bestprompt.jsonl_results_final_result.json\", 'r'))\n",
    "\n",
    "cur_keys = []\n",
    "\n",
    "for key, value in data.items():\n",
    "    if value['0']['pass@1']==value['1']['pass@1']:\n",
    "        continue\n",
    "    cur_keys.append(key)\n"
   ]
  },
  {
   "cell_type": "code",
   "execution_count": 18,
   "metadata": {},
   "outputs": [
    {
     "data": {
      "text/plain": [
       "19"
      ]
     },
     "execution_count": 18,
     "metadata": {},
     "output_type": "execute_result"
    }
   ],
   "source": [
    "len(cur_keys)"
   ]
  },
  {
   "cell_type": "code",
   "execution_count": 19,
   "metadata": {},
   "outputs": [
    {
     "name": "stdout",
     "output_type": "stream",
     "text": [
      "1\n",
      "1\n",
      "1\n",
      "1\n",
      "1\n",
      "1\n",
      "1\n",
      "1\n",
      "1\n",
      "1\n",
      "1\n",
      "1\n",
      "1\n",
      "1\n",
      "1\n",
      "1\n",
      "1\n",
      "1\n",
      "1\n"
     ]
    }
   ],
   "source": [
    "import glob\n",
    "import os\n",
    "\n",
    "files = glob.glob(\"/home/weimin/CodeT5/CodeT5+/humaneval/preds/codet5p-770m-py_T0.2_N20_bestprompt/*.jsonl\")\n",
    "\n",
    "for file in files:\n",
    "    lines = open(file, 'r').readlines()\n",
    "    task_id = json.loads(lines[0])['task_id']\n",
    "    if task_id in cur_keys:\n",
    "        print(1)\n",
    "        os.remove(file)"
   ]
  },
  {
   "cell_type": "code",
   "execution_count": 13,
   "metadata": {},
   "outputs": [
    {
     "data": {
      "text/plain": [
       "['HumanEval/52',\n",
       " 'HumanEval/43',\n",
       " 'HumanEval/12',\n",
       " 'HumanEval/68',\n",
       " 'HumanEval/16',\n",
       " 'HumanEval/14',\n",
       " 'HumanEval/40',\n",
       " 'HumanEval/162',\n",
       " 'HumanEval/48',\n",
       " 'HumanEval/8',\n",
       " 'HumanEval/4',\n",
       " 'HumanEval/79',\n",
       " 'HumanEval/124',\n",
       " 'HumanEval/76',\n",
       " 'HumanEval/114',\n",
       " 'HumanEval/18',\n",
       " 'HumanEval/11',\n",
       " 'HumanEval/66',\n",
       " 'HumanEval/9',\n",
       " 'HumanEval/60',\n",
       " 'HumanEval/58',\n",
       " 'HumanEval/21',\n",
       " 'HumanEval/0',\n",
       " 'HumanEval/55',\n",
       " 'HumanEval/61',\n",
       " 'HumanEval/5',\n",
       " 'HumanEval/45',\n",
       " 'HumanEval/13',\n",
       " 'HumanEval/46']"
      ]
     },
     "execution_count": 13,
     "metadata": {},
     "output_type": "execute_result"
    }
   ],
   "source": [
    "cur_keys"
   ]
  },
  {
   "cell_type": "code",
   "execution_count": 26,
   "metadata": {},
   "outputs": [],
   "source": [
    "import json\n",
    "data = json.load(open(\"/home/weimin/CodeT5/CodeT5+/codet5p-770m-py_T0.2_N20_bestprompt.jsonl_results_final_result.json\", 'r'))"
   ]
  },
  {
   "cell_type": "code",
   "execution_count": 27,
   "metadata": {},
   "outputs": [
    {
     "name": "stdout",
     "output_type": "stream",
     "text": [
      "0.14756097560975612\n",
      "0.1573170731707317\n",
      "0.18721919127086004\n",
      "0.2023529726396335\n",
      "0.2073170731707317\n",
      "0.23170731707317074\n"
     ]
    }
   ],
   "source": [
    "pass_1_origin = []\n",
    "pass_1_now = []\n",
    "pass_5_origin = []\n",
    "pass_5_now = []\n",
    "pass_10_origin = []\n",
    "pass_10_now = []\n",
    "pass_20_origin = []\n",
    "pass_20_now = []\n",
    "for value in data.values():\n",
    "    pass_1_origin.append(value['0']['pass@1'])\n",
    "    pass_1_now.append(value['1']['pass@1'])\n",
    "    pass_5_origin.append(value['0']['pass@5'])\n",
    "    pass_5_now.append(value['1']['pass@5'])\n",
    "    pass_10_origin.append(value['0']['pass@10'])\n",
    "    pass_10_now.append(value['1']['pass@10'])\n",
    "    pass_20_origin.append(value['0']['pass@20'])\n",
    "    pass_20_now.append(value['1']['pass@20'])\n",
    "    \n",
    "print(sum(pass_1_origin)/len(pass_1_origin))\n",
    "print(sum(pass_1_now)/len(pass_1_now))\n",
    "print(sum(pass_5_origin)/len(pass_5_origin))\n",
    "print(sum(pass_5_now)/len(pass_5_now))\n",
    "print(sum(pass_20_origin)/len(pass_20_origin))\n",
    "print(sum(pass_20_now)/len(pass_20_now))\n"
   ]
  },
  {
   "cell_type": "code",
   "execution_count": 28,
   "metadata": {},
   "outputs": [
    {
     "name": "stdout",
     "output_type": "stream",
     "text": [
      "origin\n",
      "pass@1:0.14756097560975612\n",
      "pass@5:0.18721919127086004\n",
      "pass@10:0.1997211945722479\n",
      "pass@20:0.2073170731707317\n",
      "augmented\n",
      "pass@1:0.1573170731707317\n",
      "pass@5:0.2023529726396335\n",
      "pass@10:0.21744249105874117\n",
      "pass@20:0.23170731707317074\n"
     ]
    }
   ],
   "source": [
    "print(\"origin\")\n",
    "print(f\"pass@1:{sum(pass_1_origin)/len(pass_1_origin)}\")\n",
    "print(f\"pass@5:{sum(pass_5_origin)/len(pass_5_origin)}\")\n",
    "print(f\"pass@10:{sum(pass_10_origin)/len(pass_10_origin)}\")\n",
    "print(f\"pass@20:{sum(pass_20_origin)/len(pass_20_origin)}\")\n",
    "\n",
    "print(\"augmented\")\n",
    "print(f\"pass@1:{sum(pass_1_now)/len(pass_1_now)}\")\n",
    "print(f\"pass@5:{sum(pass_5_now)/len(pass_5_now)}\")\n",
    "print(f\"pass@10:{sum(pass_10_now)/len(pass_10_now)}\")\n",
    "print(f\"pass@20:{sum(pass_20_now)/len(pass_20_now)}\")"
   ]
  },
  {
   "cell_type": "code",
   "execution_count": 1,
   "metadata": {},
   "outputs": [],
   "source": [
    "import nltk\n",
    "import json\n",
    "from nltk.corpus import stopwords\n",
    "\n",
    "words = stopwords.words('english')\n",
    "dict = json.load(open(\"tokens.json\", 'r'))\n",
    "new_dict = {}\n",
    "\n",
    "for key, value in dict.items():\n",
    "    if key.lower() not in words:\n",
    "        new_dict[key] = value\n",
    "\n",
    "json.dump(new_dict, open(\"tokens.json\", 'w'))"
   ]
  },
  {
   "cell_type": "code",
   "execution_count": 6,
   "metadata": {},
   "outputs": [],
   "source": [
    "from nltk.stem import WordNetLemmatizer  \n",
    "from nltk import word_tokenize\n",
    "from nltk import pos_tag\n",
    "lemmatizer = WordNetLemmatizer()"
   ]
  },
  {
   "cell_type": "code",
   "execution_count": 8,
   "metadata": {},
   "outputs": [
    {
     "name": "stdout",
     "output_type": "stream",
     "text": [
      "Return NNP\n",
      "Return\n",
      "list NN\n",
      "list\n",
      "of IN\n",
      "of\n",
      "all DT\n",
      "all\n",
      "prefixes NNS\n",
      "prefix\n",
      "from IN\n",
      "from\n",
      "shortest JJS\n",
      "short\n",
      "to TO\n",
      "to\n",
      "longest JJS\n",
      "long\n",
      "of IN\n",
      "of\n",
      "the DT\n",
      "the\n",
      "input NN\n",
      "input\n",
      "string NN\n",
      "string\n"
     ]
    }
   ],
   "source": [
    "sentence = \"Return list of all prefixes from shortest to longest of the input string\\n \"\n",
    "for word, tag in pos_tag(word_tokenize(sentence)):\n",
    "    print(word, tag)\n",
    "    if tag.startswith('NN'):\n",
    "        print(lemmatizer.lemmatize(word, pos='n'))\n",
    "    elif tag.startswith('VB'):\n",
    "        print(lemmatizer.lemmatize(word, pos='v'))\n",
    "    elif tag.startswith('JJ'):\n",
    "        print(lemmatizer.lemmatize(word, pos='a'))\n",
    "    else:\n",
    "        print(lemmatizer.lemmatize(word, pos='n'))\n",
    "# lemmatizer.lemmatize()"
   ]
  },
  {
   "cell_type": "code",
   "execution_count": 11,
   "metadata": {},
   "outputs": [],
   "source": [
    "count_dict = {}\n",
    "tokens = json.load(open('tokens.json', 'r'))\n",
    "for item in tokens.items():\n",
    "    token = item[0]\n",
    "    cnt = item[1][0]\n",
    "    lem = item[1][1]\n",
    "    if lem.lower() not in count_dict:\n",
    "        count_dict[lem.lower()] = {'cnt': cnt, 'token': [token]}\n",
    "    else:\n",
    "        count_dict[lem.lower()]['cnt'] += cnt\n",
    "        count_dict[lem.lower()]['token'].append(token)\n",
    "\n",
    "count_dict = sorted(count_dict.items(), key = lambda x: x[1]['cnt'], reverse=True)\n",
    "json.dump(count_dict, open('count_dict.json', 'w'))"
   ]
  },
  {
   "cell_type": "code",
   "execution_count": 15,
   "metadata": {},
   "outputs": [],
   "source": [
    "new_count_dict = {}\n",
    "stopwords = set(stopwords.words('english'))"
   ]
  },
  {
   "cell_type": "code",
   "execution_count": 17,
   "metadata": {},
   "outputs": [
    {
     "name": "stdout",
     "output_type": "stream",
     "text": [
      "{'hers', \"you've\", 'because', 'ma', 'have', 'before', 'from', 'all', 'up', 'once', 'to', 'had', 'which', 'same', 'my', 'or', \"don't\", 'were', 'these', 'in', 'needn', 'the', 'having', 'their', 'am', 'if', 's', \"won't\", 'through', 'down', 'its', 'theirs', 'on', \"should've\", 'how', 'itself', 'they', 'couldn', 'and', \"doesn't\", 'himself', 'no', 'until', 'not', 'only', 'her', 'me', 'under', 'it', 'should', 'nor', 'did', 'aren', 'wouldn', 'as', 'ourselves', \"haven't\", 'out', 'she', 'very', \"hadn't\", 'few', 'after', 'between', 've', 'be', 'but', 'then', 'who', 'during', 'o', 'by', 'has', 'do', 'when', 'again', \"isn't\", 'our', 'such', 'don', 'yourselves', 'against', 'isn', 'm', 'i', 'too', 're', 'so', 'themselves', 'shan', 'was', 'yours', 'below', 'being', 'mustn', 'off', \"that'll\", 'll', 'd', 'been', 'into', 'haven', 'further', 'what', \"aren't\", 'mightn', 'while', 'we', 'here', \"shan't\", 't', 'about', 'didn', \"she's\", 'herself', 'your', 'you', \"didn't\", 'at', 'whom', \"mightn't\", 'his', 'just', 'yourself', \"weren't\", \"you'll\", \"you're\", 'he', 'above', 'does', 'any', 'where', 'own', 'y', 'ain', 'wasn', 'other', 'them', 'more', 'each', 'will', \"hasn't\", 'ours', \"needn't\", 'this', 'for', 'are', 'why', 'doing', 'an', 'a', 'is', 'over', 'most', 'myself', 'those', 'weren', \"you'd\", 'of', 'doesn', 'can', 'some', \"it's\", 'shouldn', \"couldn't\", 'there', 'that', 'both', 'hasn', 'with', 'him', 'won', \"wouldn't\", \"mustn't\", \"wasn't\", 'hadn', 'now', \"shouldn't\", 'than'}\n"
     ]
    }
   ],
   "source": [
    "print(stopwords)"
   ]
  },
  {
   "cell_type": "code",
   "execution_count": 18,
   "metadata": {},
   "outputs": [],
   "source": [
    "for item in count_dict:\n",
    "    if item[0] in stopwords:\n",
    "        continue\n",
    "    if len(item[0]) <= 2:\n",
    "        continue\n",
    "    if item[0] in [\"one\", 'two', 'three', 'four', 'five', 'six', 'seven', 'eight', 'nine', 'ten']:\n",
    "        continue\n",
    "    new_count_dict[item[0]] = item[1]\n",
    "json.dump(new_count_dict, open('new_count_dict.json', 'w'))"
   ]
  },
  {
   "cell_type": "code",
   "execution_count": 27,
   "metadata": {},
   "outputs": [
    {
     "name": "stdout",
     "output_type": "stream",
     "text": [
      "158\n"
     ]
    }
   ],
   "source": [
    "print(sum(len(item[1]['token']) if item[1]['cnt'] > 6 else 0 for item in new_count_dict.items()))"
   ]
  },
  {
   "cell_type": "code",
   "execution_count": 28,
   "metadata": {},
   "outputs": [],
   "source": [
    "new_list = []\n",
    "for item in new_count_dict.items():\n",
    "    if item[1]['cnt'] > 6:\n",
    "        new_list.extend(item[1]['token'])"
   ]
  },
  {
   "cell_type": "code",
   "execution_count": 29,
   "metadata": {},
   "outputs": [],
   "source": [
    "json.dump(new_list, open('new_list.json', 'w'))"
   ]
  },
  {
   "cell_type": "code",
   "execution_count": 30,
   "metadata": {},
   "outputs": [],
   "source": [
    "from nltk.corpus import wordnet"
   ]
  },
  {
   "cell_type": "code",
   "execution_count": 36,
   "metadata": {},
   "outputs": [],
   "source": [
    "word = \"ascending\""
   ]
  },
  {
   "cell_type": "code",
   "execution_count": 37,
   "metadata": {},
   "outputs": [],
   "source": [
    "synonyms = []\n",
    "\n",
    "for syn in wordnet.synsets(word):\n",
    "    for lm in syn.lemmas():\n",
    "        synonyms.append(lm.name())"
   ]
  },
  {
   "cell_type": "code",
   "execution_count": 38,
   "metadata": {},
   "outputs": [
    {
     "name": "stdout",
     "output_type": "stream",
     "text": [
      "{'rise', 'ascend', 'climb_up', 'go_up', 'come_up', 'move_up', 'ascending', 'ascent', 'uprise', 'ascension'}\n"
     ]
    }
   ],
   "source": [
    "print(set(synonyms))"
   ]
  },
  {
   "cell_type": "code",
   "execution_count": 39,
   "metadata": {},
   "outputs": [],
   "source": [
    "import json\n",
    "new_set = list(json.load(open('new_list.json', 'r')))\n",
    "new_set = set(new_set)\n",
    "json.dump(list(new_set), open('new_list.json', 'w'))"
   ]
  },
  {
   "cell_type": "code",
   "execution_count": 40,
   "metadata": {},
   "outputs": [],
   "source": [
    "new_list = list(new_set)"
   ]
  },
  {
   "cell_type": "code",
   "execution_count": 46,
   "metadata": {},
   "outputs": [
    {
     "ename": "KeyError",
     "evalue": "'indexes'",
     "output_type": "error",
     "traceback": [
      "\u001b[0;31m---------------------------------------------------------------------------\u001b[0m",
      "\u001b[0;31mKeyError\u001b[0m                                  Traceback (most recent call last)",
      "\u001b[0;32m/tmp/ipykernel_998558/886881635.py\u001b[0m in \u001b[0;36m<module>\u001b[0;34m\u001b[0m\n\u001b[1;32m      4\u001b[0m     \u001b[0;32mif\u001b[0m \u001b[0mitem\u001b[0m \u001b[0;34m==\u001b[0m \u001b[0;34m'tuple'\u001b[0m \u001b[0;32mor\u001b[0m \u001b[0mitem\u001b[0m\u001b[0;34m==\u001b[0m\u001b[0;34m'indices'\u001b[0m \u001b[0;32mor\u001b[0m \u001b[0mitem\u001b[0m \u001b[0;34m==\u001b[0m \u001b[0;34m'integer'\u001b[0m \u001b[0;32mor\u001b[0m \u001b[0mitem\u001b[0m \u001b[0;34m==\u001b[0m \u001b[0;34m'integers'\u001b[0m \u001b[0;32mor\u001b[0m \u001b[0mitem\u001b[0m \u001b[0;34m==\u001b[0m\u001b[0;34m'arr'\u001b[0m\u001b[0;34m:\u001b[0m\u001b[0;34m\u001b[0m\u001b[0;34m\u001b[0m\u001b[0m\n\u001b[1;32m      5\u001b[0m         \u001b[0;32mcontinue\u001b[0m\u001b[0;34m\u001b[0m\u001b[0;34m\u001b[0m\u001b[0m\n\u001b[0;32m----> 6\u001b[0;31m     \u001b[0mtarget_tokens\u001b[0m \u001b[0;34m=\u001b[0m \u001b[0mmap_\u001b[0m\u001b[0;34m[\u001b[0m\u001b[0mitem\u001b[0m\u001b[0;34m]\u001b[0m\u001b[0;34m\u001b[0m\u001b[0;34m\u001b[0m\u001b[0m\n\u001b[0m\u001b[1;32m      7\u001b[0m     \u001b[0mnew_list_map\u001b[0m\u001b[0;34m[\u001b[0m\u001b[0mitem\u001b[0m\u001b[0;34m]\u001b[0m \u001b[0;34m=\u001b[0m \u001b[0mtarget_tokens\u001b[0m\u001b[0;34m\u001b[0m\u001b[0;34m\u001b[0m\u001b[0m\n\u001b[1;32m      8\u001b[0m \u001b[0;34m\u001b[0m\u001b[0m\n",
      "\u001b[0;31mKeyError\u001b[0m: 'indexes'"
     ]
    }
   ],
   "source": [
    "# map_ = json.load(open('map.json', 'r'))\n",
    "# new_list_map = {}\n",
    "# for item in new_list:\n",
    "#     :\n",
    "#         continue\n",
    "#     # target_tokens = map_[item]\n",
    "#     new_list_map[item] = target_tokens\n",
    "\n",
    "# json.dump(new_list_map, open('new_list_map.json', 'w'))"
   ]
  },
  {
   "cell_type": "code",
   "execution_count": 50,
   "metadata": {},
   "outputs": [],
   "source": [
    "from textattack.transformations import WordSwapEmbedding\n",
    "\n",
    "embedding = WordSwapEmbedding()\n",
    "new_list_map = {}\n",
    "\n",
    "for token in new_list:\n",
    "    candidate = embedding._get_replacement_words(token)[:3]\n",
    "    new_list_map[token] = candidate\n",
    "\n",
    "json.dump(new_list_map, open('new_list_map.json', 'w'))"
   ]
  },
  {
   "cell_type": "code",
   "execution_count": 51,
   "metadata": {},
   "outputs": [],
   "source": [
    "import json\n",
    "all_prompt = json.load(open(\"all_prompt.json\", 'r'))"
   ]
  },
  {
   "cell_type": "code",
   "execution_count": 52,
   "metadata": {},
   "outputs": [
    {
     "data": {
      "text/plain": [
       "507"
      ]
     },
     "execution_count": 52,
     "metadata": {},
     "output_type": "execute_result"
    }
   ],
   "source": [
    "len(all_prompt)"
   ]
  },
  {
   "cell_type": "code",
   "execution_count": 3,
   "metadata": {},
   "outputs": [
    {
     "ename": "TypeError",
     "evalue": "sorted expected 1 arguments, got 2",
     "output_type": "error",
     "traceback": [
      "\u001b[0;31m---------------------------------------------------------------------------\u001b[0m",
      "\u001b[0;31mTypeError\u001b[0m                                 Traceback (most recent call last)",
      "\u001b[0;32m/tmp/ipykernel_1051961/1348177392.py\u001b[0m in \u001b[0;36m<module>\u001b[0;34m\u001b[0m\n\u001b[1;32m      7\u001b[0m     \u001b[0mnew_dict\u001b[0m\u001b[0;34m[\u001b[0m\u001b[0mkey\u001b[0m\u001b[0;34m]\u001b[0m \u001b[0;34m=\u001b[0m \u001b[0mvalue\u001b[0m\u001b[0;34m[\u001b[0m\u001b[0;34m\"0\"\u001b[0m\u001b[0;34m]\u001b[0m\u001b[0;34m\u001b[0m\u001b[0;34m\u001b[0m\u001b[0m\n\u001b[1;32m      8\u001b[0m \u001b[0;34m\u001b[0m\u001b[0m\n\u001b[0;32m----> 9\u001b[0;31m \u001b[0mnew_dict\u001b[0m \u001b[0;34m=\u001b[0m \u001b[0msorted\u001b[0m\u001b[0;34m(\u001b[0m\u001b[0mnew_dict\u001b[0m\u001b[0;34m.\u001b[0m\u001b[0mitems\u001b[0m\u001b[0;34m(\u001b[0m\u001b[0;34m)\u001b[0m\u001b[0;34m,\u001b[0m \u001b[0;32mlambda\u001b[0m \u001b[0mx\u001b[0m\u001b[0;34m:\u001b[0m \u001b[0mx\u001b[0m\u001b[0;34m[\u001b[0m\u001b[0;36m0\u001b[0m\u001b[0;34m]\u001b[0m\u001b[0;34m)\u001b[0m\u001b[0;34m\u001b[0m\u001b[0;34m\u001b[0m\u001b[0m\n\u001b[0m",
      "\u001b[0;31mTypeError\u001b[0m: sorted expected 1 arguments, got 2"
     ]
    }
   ],
   "source": [
    "import json\n",
    "final_result = json.load(open(\"/home/weimin/CodeT5/CodeT5+/codet5p-770m-py_T0.2_N20_bestprompt.jsonl_results_final_result.json\", 'r'))\n",
    "\n",
    "new_dict = {}\n",
    "\n",
    "for key,value in final_result.items():\n",
    "    new_dict[key] = value[\"0\"]\n",
    "    \n"
   ]
  },
  {
   "cell_type": "code",
   "execution_count": 4,
   "metadata": {},
   "outputs": [],
   "source": [
    "new_dict = sorted(new_dict.items(), key=lambda x: x[0])\n",
    "json.dump(dict(new_dict), open(\"task_id_result.json\", 'w'))"
   ]
  },
  {
   "cell_type": "code",
   "execution_count": 5,
   "metadata": {},
   "outputs": [],
   "source": [
    "json.dump(dict(new_dict), open(\"task_id_result.json\", 'w'))"
   ]
  },
  {
   "cell_type": "code",
   "execution_count": 1,
   "metadata": {},
   "outputs": [],
   "source": [
    "dir_path = \"/home/weimin/CodeT5/CodeT5+/humaneval/preds/codet5p-770m-py_T0.2_N20_all\"\n",
    "import glob\n",
    "import json\n",
    "from human_eval.data import read_problems, write_jsonl, stream_jsonl\n",
    "output = []\n",
    "\n",
    "all_files = glob.glob(dir_path + \"/*.json\")\n",
    "for file in all_files:\n",
    "    data  = json.load(open(file, 'r'))\n",
    "    count = data['count']\n",
    "    program = data['data']\n",
    "    for item in program:\n",
    "        if item['completion'] != None:\n",
    "            completion = item['completion']\n",
    "            for temp in completion:\n",
    "                temp['prompt_id'] = count\n",
    "                temp['transform'] = item['transform']\n",
    "                # print(item)\n",
    "                temp['replaced_count'] = item['repalced_count']\n",
    "            output.extend(completion)\n",
    "\n",
    "write_jsonl( \"all_prompt.jsonl\", output)"
   ]
  },
  {
   "cell_type": "code",
   "execution_count": 2,
   "metadata": {},
   "outputs": [],
   "source": [
    "import json\n",
    "data = json.load(open(\"/home/weimin/CodeT5/CodeT5+/li.json\", 'r'))\n",
    "length = len(data)"
   ]
  },
  {
   "cell_type": "code",
   "execution_count": 3,
   "metadata": {},
   "outputs": [
    {
     "data": {
      "text/plain": [
       "1321"
      ]
     },
     "execution_count": 3,
     "metadata": {},
     "output_type": "execute_result"
    }
   ],
   "source": [
    "length"
   ]
  },
  {
   "cell_type": "code",
   "execution_count": 7,
   "metadata": {},
   "outputs": [],
   "source": [
    "import numpy as np\n",
    "final_dict= {}\n",
    "for i in range(length):\n",
    "    pass_rate_1 = np.array([value['pass@1'] for value in data[i].values()]).mean()\n",
    "    pass_rate_5 = np.array([value['pass@5'] for value in data[i].values()]).mean()\n",
    "    pass_rate_10 = np.array([value['pass@10'] for value in data[i].values()]).mean()\n",
    "    pass_rate_20 = np.array([value['pass@20'] for value in data[i].values()]).mean()\n",
    "    final_dict[i] = {'pass@1': pass_rate_1, 'pass@5': pass_rate_5, 'pass@10': pass_rate_10, 'pass@20': pass_rate_20, \"replaced_count\": data}\n",
    "\n",
    "json.dump(final_dict, open(\"final_dict.json\", 'w'))"
   ]
  },
  {
   "cell_type": "code",
   "execution_count": 5,
   "metadata": {},
   "outputs": [
    {
     "data": {
      "text/plain": [
       "0.14756097560975612"
      ]
     },
     "execution_count": 5,
     "metadata": {},
     "output_type": "execute_result"
    }
   ],
   "source": [
    "pass_rate_1"
   ]
  },
  {
   "cell_type": "code",
   "execution_count": 14,
   "metadata": {},
   "outputs": [],
   "source": [
    "data = json.load(open(\"/home/weimin/CodeT5/CodeT5+/task_id_result.json\", 'r'))\n",
    "pass_rate_1 = np.array([value['pass@1'] for value in data.values()]).mean()\n",
    "pass_rate_5 = np.array([value['pass@5'] for value in data.values()]).mean()\n",
    "pass_rate_10 = np.array([value['pass@10'] for value in data.values()]).mean()\n",
    "pass_rate_20 = np.array([value['pass@20'] for value in data.values()]).mean()\n",
    "final_dict = {'pass@1': pass_rate_1, 'pass@5': pass_rate_5, 'pass@10': pass_rate_10, 'pass@20': pass_rate_20}"
   ]
  },
  {
   "cell_type": "code",
   "execution_count": 15,
   "metadata": {},
   "outputs": [
    {
     "data": {
      "text/plain": [
       "{'pass@1': 0.1475609756097561,\n",
       " 'pass@5': 0.1872191912708601,\n",
       " 'pass@10': 0.19972119457224796,\n",
       " 'pass@20': 0.2073170731707317}"
      ]
     },
     "execution_count": 15,
     "metadata": {},
     "output_type": "execute_result"
    }
   ],
   "source": [
    "final_dict"
   ]
  },
  {
   "cell_type": "code",
   "execution_count": 8,
   "metadata": {},
   "outputs": [],
   "source": [
    "path = \"/home/weimin/CodeT5/CodeT5+/before/final_dict.json\"\n",
    "data = json.load(open(path, 'r'))"
   ]
  },
  {
   "cell_type": "code",
   "execution_count": 9,
   "metadata": {},
   "outputs": [],
   "source": [
    "count_dict = {}\n",
    "for item in data.values():\n",
    "    pass_rate_1 = item['pass@1']\n",
    "    if pass_rate_1 not in count_dict:\n",
    "        count_dict[pass_rate_1] = 1\n",
    "    else:\n",
    "        count_dict[pass_rate_1] += 1\n",
    "\n",
    "count_dict = dict(sorted(count_dict.items(), key=lambda x: x[0], reverse=True))\n",
    "json.dump(count_dict, open(\"count_dict.json\", 'w'))"
   ]
  },
  {
   "cell_type": "code",
   "execution_count": 13,
   "metadata": {},
   "outputs": [],
   "source": [
    "dir_path = \"/home/weimin/CodeT5/CodeT5+/humaneval/preds/codet5p-770m-py_T0.2_N20_all\"\n",
    "rule_sets = {}\n",
    "import glob\n",
    "import json\n",
    "from human_eval.data import read_problems, write_jsonl, stream_jsonl\n",
    "# output = []\n",
    "\n",
    "\n",
    "all_files = glob.glob(dir_path + \"/*.json\")\n",
    "for i, file in enumerate(all_files):\n",
    "    data = json.load(open(file, 'r'))\n",
    "    count = data['count']\n",
    "    rule_sets[i] = data['transform']"
   ]
  },
  {
   "cell_type": "code",
   "execution_count": 14,
   "metadata": {},
   "outputs": [],
   "source": [
    "oracle_pass = 0.1475609756097561\n",
    "new_rule_sets = []\n",
    "final_dict = json.load(open(\"/home/weimin/CodeT5/CodeT5+/before/final_dict.json\", 'r'))\n",
    "for key, value in final_dict.items():\n",
    "    pass_1 = value['pass@1']\n",
    "    if pass_1>oracle_pass:\n",
    "        dict = {}\n",
    "        dict['transform'] = rule_sets[int(key)]\n",
    "        dict['pass@1'] = value['pass@1']\n",
    "        dict['key'] = key\n",
    "        new_rule_sets.append(dict)\n",
    "# print(new_rule_sets)\n",
    "json.dump(new_rule_sets, open(\"new_rule_sets.json\", 'w'))"
   ]
  },
  {
   "cell_type": "code",
   "execution_count": 15,
   "metadata": {},
   "outputs": [
    {
     "ename": "FileNotFoundError",
     "evalue": "[Errno 2] No such file or directory: '/home/weimin/CodeT5/CodeT5+/key_transform.json'",
     "output_type": "error",
     "traceback": [
      "\u001b[0;31m---------------------------------------------------------------------------\u001b[0m",
      "\u001b[0;31mFileNotFoundError\u001b[0m                         Traceback (most recent call last)",
      "\u001b[0;32m/tmp/ipykernel_2552503/707495173.py\u001b[0m in \u001b[0;36m<module>\u001b[0;34m\u001b[0m\n\u001b[1;32m      1\u001b[0m \u001b[0;32mimport\u001b[0m \u001b[0mjson\u001b[0m\u001b[0;34m\u001b[0m\u001b[0;34m\u001b[0m\u001b[0m\n\u001b[0;32m----> 2\u001b[0;31m \u001b[0mkey_count\u001b[0m \u001b[0;34m=\u001b[0m \u001b[0mjson\u001b[0m\u001b[0;34m.\u001b[0m\u001b[0mload\u001b[0m\u001b[0;34m(\u001b[0m\u001b[0mopen\u001b[0m\u001b[0;34m(\u001b[0m\u001b[0;34m\"/home/weimin/CodeT5/CodeT5+/key_transform.json\"\u001b[0m\u001b[0;34m,\u001b[0m \u001b[0;34m'r'\u001b[0m\u001b[0;34m)\u001b[0m\u001b[0;34m)\u001b[0m\u001b[0;34m\u001b[0m\u001b[0;34m\u001b[0m\u001b[0m\n\u001b[0m\u001b[1;32m      3\u001b[0m \u001b[0;32mfor\u001b[0m \u001b[0mitem\u001b[0m \u001b[0;32min\u001b[0m \u001b[0mnew_rule_sets\u001b[0m\u001b[0;34m:\u001b[0m\u001b[0;34m\u001b[0m\u001b[0;34m\u001b[0m\u001b[0m\n\u001b[1;32m      4\u001b[0m     \u001b[0mitem\u001b[0m\u001b[0;34m[\u001b[0m\u001b[0;34m'changed_tokens'\u001b[0m\u001b[0;34m]\u001b[0m \u001b[0;34m=\u001b[0m \u001b[0mkey_count\u001b[0m\u001b[0;34m[\u001b[0m\u001b[0mitem\u001b[0m\u001b[0;34m[\u001b[0m\u001b[0;34m'key'\u001b[0m\u001b[0;34m]\u001b[0m\u001b[0;34m]\u001b[0m\u001b[0;34m\u001b[0m\u001b[0;34m\u001b[0m\u001b[0m\n\u001b[1;32m      5\u001b[0m \u001b[0mjson\u001b[0m\u001b[0;34m.\u001b[0m\u001b[0mdump\u001b[0m\u001b[0;34m(\u001b[0m\u001b[0mnew_rule_sets\u001b[0m\u001b[0;34m,\u001b[0m \u001b[0mopen\u001b[0m\u001b[0;34m(\u001b[0m\u001b[0;34m\"new_rule_sets.json\"\u001b[0m\u001b[0;34m,\u001b[0m \u001b[0;34m'w'\u001b[0m\u001b[0;34m)\u001b[0m\u001b[0;34m)\u001b[0m\u001b[0;34m\u001b[0m\u001b[0;34m\u001b[0m\u001b[0m\n",
      "\u001b[0;31mFileNotFoundError\u001b[0m: [Errno 2] No such file or directory: '/home/weimin/CodeT5/CodeT5+/key_transform.json'"
     ]
    }
   ],
   "source": [
    "import json\n",
    "key_count = json.load(open(\"/home/weimin/CodeT5/CodeT5+/key_transform.json\", 'r'))\n",
    "for item in new_rule_sets:\n",
    "    item['changed_tokens'] = key_count[item['key']]\n",
    "json.dump(new_rule_sets, open(\"new_rule_sets.json\", 'w'))"
   ]
  },
  {
   "cell_type": "code",
   "execution_count": 16,
   "metadata": {},
   "outputs": [],
   "source": [
    "new_rule_sets = sorted(new_rule_sets, key=lambda x: x['pass@1'], reverse=True)"
   ]
  },
  {
   "cell_type": "code",
   "execution_count": 17,
   "metadata": {},
   "outputs": [],
   "source": [
    "json.dump(new_rule_sets, open(\"new_rule_sets.json\", 'w'))"
   ]
  },
  {
   "cell_type": "code",
   "execution_count": 40,
   "metadata": {},
   "outputs": [
    {
     "data": {
      "text/plain": [
       "['opening', 'opened']"
      ]
     },
     "execution_count": 40,
     "metadata": {},
     "output_type": "execute_result"
    }
   ],
   "source": [
    "rule_sets[154]"
   ]
  },
  {
   "cell_type": "code",
   "execution_count": 44,
   "metadata": {},
   "outputs": [
    {
     "data": {
      "text/plain": [
       "{'count': ['character', 'personages']}"
      ]
     },
     "execution_count": 44,
     "metadata": {},
     "output_type": "execute_result"
    }
   ],
   "source": [
    "rule_sets\n",
    "from nltk import pos_tag"
   ]
  },
  {
   "cell_type": "code",
   "execution_count": 60,
   "metadata": {},
   "outputs": [
    {
     "name": "stdout",
     "output_type": "stream",
     "text": [
      "run\n",
      "good\n",
      "quickly\n"
     ]
    }
   ],
   "source": [
    "from nltk.corpus import wordnet\n",
    "from nltk.stem import WordNetLemmatizer\n",
    "\n",
    "def get_wordnet_pos(word):\n",
    "    \"\"\"将词性标注转换为适合WordNetLemmatizer的词性\"\"\"\n",
    "    tag = nltk.pos_tag([word])[0][1][0].upper()\n",
    "    tag_dict = {\n",
    "        \"J\": wordnet.ADJ,\n",
    "        \"N\": wordnet.NOUN,\n",
    "        \"V\": wordnet.VERB,\n",
    "        \"R\": wordnet.ADV\n",
    "    }\n",
    "    return tag_dict.get(tag, wordnet.NOUN)\n",
    "\n",
    "def lemmatize_word(word, pos=None):\n",
    "    \"\"\"将单词转化为原型\"\"\"\n",
    "    lemmatizer = WordNetLemmatizer()\n",
    "    if pos:\n",
    "        return lemmatizer.lemmatize(word, pos=pos)\n",
    "    else:\n",
    "        pos = get_wordnet_pos(word)\n",
    "        return lemmatizer.lemmatize(word, pos=pos)\n",
    "\n",
    "# 示例\n",
    "word = \"running\"\n",
    "lemma = lemmatize_word(word)\n",
    "print(lemma)  # 输出：run\n",
    "\n",
    "adjective = lemmatize_word(\"better\", pos=wordnet.ADJ)\n",
    "print(adjective)  # 输出：good\n",
    "\n",
    "adverb = lemmatize_word(\"quickly\", pos=wordnet.VERB)\n",
    "print(adverb)  # 输出：quick"
   ]
  },
  {
   "cell_type": "code",
   "execution_count": 7,
   "metadata": {},
   "outputs": [
    {
     "name": "stdout",
     "output_type": "stream",
     "text": [
      "{'analogous', 'correspondent'}\n"
     ]
    }
   ],
   "source": [
    "from nltk.corpus import wordnet\n",
    "word = \"analogous\"\n",
    "synonyms = []\n",
    "\n",
    "for syn in wordnet.synsets(word):\n",
    "    for lm in syn.lemmas():\n",
    "        synonyms.append(lm.name())\n",
    "print (set(synonyms))"
   ]
  },
  {
   "cell_type": "code",
   "execution_count": 18,
   "metadata": {},
   "outputs": [],
   "source": [
    "import nltk\n",
    "from nltk import word_tokenize\n",
    "from nltk import pos_tag\n",
    "\n",
    "words=word_tokenize(\"For a given list of integers, return a tuple consisting of a sum and a product of all the integers in a list.\\n    Empty sum should be equal to 0 and empty product should be equal to 1.\\n\")\n",
    "new_words = word_tokenize(\"For a given list of integers, return a tuple consisting of a sum and a product of all the integers in a list.\\n    Empty sum should be equal to 0 and emptiness product should be equal to 1.\\n  \")\n",
    "\n",
    "tags = pos_tag(words)\n",
    "new_tags = pos_tag(new_words)\n"
   ]
  },
  {
   "cell_type": "code",
   "execution_count": 19,
   "metadata": {},
   "outputs": [
    {
     "name": "stdout",
     "output_type": "stream",
     "text": [
      "[('For', 'IN'), ('a', 'DT'), ('given', 'VBN'), ('list', 'NN'), ('of', 'IN'), ('integers', 'NNS'), (',', ','), ('return', 'VBP'), ('a', 'DT'), ('tuple', 'JJ'), ('consisting', 'NN'), ('of', 'IN'), ('a', 'DT'), ('sum', 'NN'), ('and', 'CC'), ('a', 'DT'), ('product', 'NN'), ('of', 'IN'), ('all', 'PDT'), ('the', 'DT'), ('integers', 'NNS'), ('in', 'IN'), ('a', 'DT'), ('list', 'NN'), ('.', '.'), ('Empty', 'NNP'), ('sum', 'NN'), ('should', 'MD'), ('be', 'VB'), ('equal', 'JJ'), ('to', 'TO'), ('0', 'CD'), ('and', 'CC'), ('empty', 'JJ'), ('product', 'NN'), ('should', 'MD'), ('be', 'VB'), ('equal', 'JJ'), ('to', 'TO'), ('1', 'CD'), ('.', '.')]\n",
      "[('For', 'IN'), ('a', 'DT'), ('given', 'VBN'), ('list', 'NN'), ('of', 'IN'), ('integers', 'NNS'), (',', ','), ('return', 'VBP'), ('a', 'DT'), ('tuple', 'JJ'), ('consisting', 'NN'), ('of', 'IN'), ('a', 'DT'), ('sum', 'NN'), ('and', 'CC'), ('a', 'DT'), ('product', 'NN'), ('of', 'IN'), ('all', 'PDT'), ('the', 'DT'), ('integers', 'NNS'), ('in', 'IN'), ('a', 'DT'), ('list', 'NN'), ('.', '.'), ('Empty', 'NNP'), ('sum', 'NN'), ('should', 'MD'), ('be', 'VB'), ('equal', 'JJ'), ('to', 'TO'), ('0', 'CD'), ('and', 'CC'), ('emptiness', 'JJ'), ('product', 'NN'), ('should', 'MD'), ('be', 'VB'), ('equal', 'JJ'), ('to', 'TO'), ('1', 'CD'), ('.', '.')]\n"
     ]
    }
   ],
   "source": [
    "print(tags)\n",
    "print(new_tags)"
   ]
  },
  {
   "cell_type": "code",
   "execution_count": 20,
   "metadata": {},
   "outputs": [],
   "source": [
    "tags = [item[1] for item in tags]\n",
    "new_tags = [item[1] for item in new_tags]"
   ]
  },
  {
   "cell_type": "code",
   "execution_count": 21,
   "metadata": {},
   "outputs": [
    {
     "data": {
      "text/plain": [
       "True"
      ]
     },
     "execution_count": 21,
     "metadata": {},
     "output_type": "execute_result"
    }
   ],
   "source": [
    "tags ==new_tags"
   ]
  },
  {
   "cell_type": "code",
   "execution_count": 6,
   "metadata": {},
   "outputs": [
    {
     "name": "stdout",
     "output_type": "stream",
     "text": [
      "empty\n",
      "emptiness\n"
     ]
    }
   ],
   "source": [
    "from nltk.stem import WordNetLemmatizer\n",
    "\n",
    "wnl = WordNetLemmatizer()\n",
    "# lemmatize nouns\n",
    "print(wnl.lemmatize('empty', 'a'))\n",
    "print(wnl.lemmatize('emptiness', 'v'))"
   ]
  },
  {
   "cell_type": "code",
   "execution_count": null,
   "metadata": {},
   "outputs": [],
   "source": []
  }
 ],
 "metadata": {
  "kernelspec": {
   "display_name": "code",
   "language": "python",
   "name": "python3"
  },
  "language_info": {
   "codemirror_mode": {
    "name": "ipython",
    "version": 3
   },
   "file_extension": ".py",
   "mimetype": "text/x-python",
   "name": "python",
   "nbconvert_exporter": "python",
   "pygments_lexer": "ipython3",
   "version": "3.7.16"
  },
  "orig_nbformat": 4
 },
 "nbformat": 4,
 "nbformat_minor": 2
}
